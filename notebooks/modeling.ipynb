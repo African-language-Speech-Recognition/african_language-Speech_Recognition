{
 "cells": [
  {
   "cell_type": "code",
   "execution_count": 13,
   "outputs": [],
   "source": [
    "import os\n",
    "import sys\n",
    "sys.path.append(os.path.abspath(os.path.join('../scripts')))\n",
    "# sys.path.append(os.path.abspath(os.path.join('./scripts')))\n",
    "import pandas as pd\n",
    "import IPython.display as ipd\n",
    "import matplotlib.pyplot as plt\n",
    "import numpy as np\n",
    "from scipy.io import wavfile #for audio processing\n",
    "import os\n",
    "import pickle\n",
    "import pandas as pd\n",
    "from collections import Counter\n",
    "import librosa\n",
    "import librosa.display\n",
    "import tensorflow as tf\n",
    "from tensorflow.keras.models import Model, Sequential\n",
    "from tensorflow.keras.layers import *\n",
    "from tensorflow.keras.callbacks import Callback, ModelCheckpoint\n",
    "from tensorflow.keras.preprocessing.sequence import pad_sequences\n",
    "from tensorflow.keras.optimizers import SGD, Adam, RMSprop\n",
    "from tensorflow.keras import backend as K\n",
    "from jiwer import wer\n",
    "import random\n",
    "import mlflow\n",
    "import warnings\n",
    "warnings.filterwarnings('ignore')\n",
    "import helper\n",
    "from data_loader import DataLoader\n",
    "from data_generator import DataGenerator\n",
    "from tokenizer import Tokenizer\n",
    "from logspectrogram import LogMelSpectrogram\n",
    "from ctc_loss import CTC_loss\n",
    "from model2 import simple_rnn_model, CNN_net, BidirectionalRNN2, cnn_rnn_model, preprocessin_model"
   ],
   "metadata": {
    "collapsed": false,
    "pycharm": {
     "name": "#%%\n"
    }
   }
  },
  {
   "cell_type": "code",
   "execution_count": 14,
   "outputs": [],
   "source": [
    "train_path = \"../data/AMHARIC/train/\"\n",
    "test_path = \"../data/AMHARIC/test/\""
   ],
   "metadata": {
    "collapsed": false,
    "pycharm": {
     "name": "#%%\n"
    }
   }
  },
  {
   "cell_type": "code",
   "execution_count": 15,
   "outputs": [],
   "source": [
    "train_audio_folder  = train_path + \"/wav/\"\n",
    "train_script_file = train_path + \"trsTrain.txt\"\n",
    "sample_rate = 8000"
   ],
   "metadata": {
    "collapsed": false,
    "pycharm": {
     "name": "#%%\n"
    }
   }
  },
  {
   "cell_type": "code",
   "execution_count": 16,
   "outputs": [],
   "source": [
    "test_audio_folder  = test_path + \"/wav/\"\n",
    "test_script_file = test_path + \"trsTest.txt\""
   ],
   "metadata": {
    "collapsed": false,
    "pycharm": {
     "name": "#%%\n"
    }
   }
  },
  {
   "cell_type": "code",
   "execution_count": null,
   "outputs": [],
   "source": [
    "data_loader = DataLoader(train_audio_folder, train_script_file, sr=sample_rate)"
   ],
   "metadata": {
    "collapsed": false,
    "pycharm": {
     "name": "#%%\n"
    }
   }
  },
  {
   "cell_type": "code",
   "execution_count": null,
   "outputs": [],
   "source": [
    "translation_obj = data_loader.extract_transcription_and_labels()\n",
    "audio_dict = data_loader.extract_audio(5000)"
   ],
   "metadata": {
    "collapsed": false,
    "pycharm": {
     "name": "#%%\n"
    }
   }
  },
  {
   "cell_type": "code",
   "execution_count": null,
   "outputs": [],
   "source": [
    "helper.write_obj(\"../data/audio_dict.pkl\", audio_dict)\n",
    "helper.write_obj(\"../data/translation_dict.pkl\", translation_obj)"
   ],
   "metadata": {
    "collapsed": false,
    "pycharm": {
     "name": "#%%\n"
    }
   }
  },
  {
   "cell_type": "code",
   "execution_count": 4,
   "outputs": [],
   "source": [
    "frame_step = 256\n",
    "ctc = CTC_loss(frame_step)"
   ],
   "metadata": {
    "collapsed": false,
    "pycharm": {
     "name": "#%%\n"
    }
   }
  },
  {
   "cell_type": "markdown",
   "source": [
    "### Model trainer function"
   ],
   "metadata": {
    "collapsed": false,
    "pycharm": {
     "name": "#%% md\n"
    }
   }
  },
  {
   "cell_type": "code",
   "execution_count": 5,
   "outputs": [],
   "source": [
    "def train(model_builder,\n",
    "          data_gen,\n",
    "          batch_size = 32,\n",
    "          epochs=20,\n",
    "          verbose=1,\n",
    "          save_path=\"../models/model.h5\",\n",
    "          optimizer=SGD(learning_rate=0.01, decay=1e-6, momentum=0.9, nesterov=True, clipnorm=5),\n",
    "          ):\n",
    "\n",
    "    model = ctc.add_ctc_loss(model_builder)\n",
    "\n",
    "    checkpointer = ModelCheckpoint(filepath=save_path, verbose=0)\n",
    "    model.compile(loss={'ctc': lambda y_true, y_pred: y_pred}, optimizer=optimizer)\n",
    "    print(model.summary())\n",
    "\n",
    "\n",
    "    hist = model.fit_generator(generator=data_gen,\n",
    "                               callbacks=[checkpointer],\n",
    "\n",
    "                               epochs=epochs,\n",
    "                               verbose=verbose,\n",
    "                               use_multiprocessing=False)\n",
    "    return model"
   ],
   "metadata": {
    "collapsed": false,
    "pycharm": {
     "name": "#%%\n"
    }
   }
  },
  {
   "cell_type": "code",
   "execution_count": 6,
   "outputs": [
    {
     "name": "stdout",
     "output_type": "stream",
     "text": [
      "file read as csv\n"
     ]
    }
   ],
   "source": [
    "translation_obj = helper.read_obj(\"../data/translation_dict.pkl\")\n",
    "audio_obj = helper.read_obj(\"../data/audio_dict.pkl\")\n",
    "meta_data = helper.read_csv(\"../data/meta_data.csv\")"
   ],
   "metadata": {
    "collapsed": false,
    "pycharm": {
     "name": "#%%\n"
    }
   }
  },
  {
   "cell_type": "code",
   "execution_count": 7,
   "outputs": [
    {
     "data": {
      "text/plain": "                                            translation            label  \\\n3399                                    እኔ ጥሩ ኢትዮጵያዊ ነኝ  tr_7742_tr78043   \n3922                                   ጺ ዮን ማሪያም ሄጄ ነበር  tr_8210_tr82091   \n1142                                      ሼራተን አዲስ ተመረቀ  tr_5302_tr54003   \n3097                                   አሸናፊ ፈጣን ተጨዋች ነው  tr_1541_tr16042   \n1244                                     ዛሬ አዲስ ክስተት አለ  tr_6251_tr63052   \n...                                                 ...              ...   \n1785  የ ትምህርት ደረጃቸው ንና የ አገልግሎት ሁኔታዎች ን ስን መረምር የሚደር...  tr_2365_tr24066   \n555   ለ ምሳሌ ዲዮ ን ደብሊን ን ፓትሪክ ኩላይቨርት ን ን ሮናልድ ዴ ቦዬርን ...    tr_85_tr01085   \n4255  ሁሴን አይዲድ እንደ ገለጹት ኢትዮጵያ ሁኔታዎች ከ ተመቻቹ ላት ሶማሊያ ን...    tr_16_tr01016   \n4524  ባጭሩ ድርጅታችን እየ በ ከተ ስርአታችን ና አመራ ራችን ባህርይ ውን እየ...  tr_6163_tr62064   \n3130  ማጋነን ባይሆን ብኝ ለ ፕሮፌሰሩ የተሰጠ ውን አክብሮት ሳስበው የ አሜሪካ...  tr_6166_tr62067   \n\n      channel  sample_rate  duration  \n3399        1         8000     1.792  \n3922        1         8000     2.048  \n1142        1         8000     2.048  \n3097        1         8000     2.048  \n1244        1         8000     2.176  \n...       ...          ...       ...  \n1785        1         8000    19.968  \n555         1         8000    20.480  \n4255        1         8000    20.736  \n4524        1         8000    22.528  \n3130        1         8000    22.912  \n\n[5000 rows x 5 columns]",
      "text/html": "<div>\n<style scoped>\n    .dataframe tbody tr th:only-of-type {\n        vertical-align: middle;\n    }\n\n    .dataframe tbody tr th {\n        vertical-align: top;\n    }\n\n    .dataframe thead th {\n        text-align: right;\n    }\n</style>\n<table border=\"1\" class=\"dataframe\">\n  <thead>\n    <tr style=\"text-align: right;\">\n      <th></th>\n      <th>translation</th>\n      <th>label</th>\n      <th>channel</th>\n      <th>sample_rate</th>\n      <th>duration</th>\n    </tr>\n  </thead>\n  <tbody>\n    <tr>\n      <th>3399</th>\n      <td>እኔ ጥሩ ኢትዮጵያዊ ነኝ</td>\n      <td>tr_7742_tr78043</td>\n      <td>1</td>\n      <td>8000</td>\n      <td>1.792</td>\n    </tr>\n    <tr>\n      <th>3922</th>\n      <td>ጺ ዮን ማሪያም ሄጄ ነበር</td>\n      <td>tr_8210_tr82091</td>\n      <td>1</td>\n      <td>8000</td>\n      <td>2.048</td>\n    </tr>\n    <tr>\n      <th>1142</th>\n      <td>ሼራተን አዲስ ተመረቀ</td>\n      <td>tr_5302_tr54003</td>\n      <td>1</td>\n      <td>8000</td>\n      <td>2.048</td>\n    </tr>\n    <tr>\n      <th>3097</th>\n      <td>አሸናፊ ፈጣን ተጨዋች ነው</td>\n      <td>tr_1541_tr16042</td>\n      <td>1</td>\n      <td>8000</td>\n      <td>2.048</td>\n    </tr>\n    <tr>\n      <th>1244</th>\n      <td>ዛሬ አዲስ ክስተት አለ</td>\n      <td>tr_6251_tr63052</td>\n      <td>1</td>\n      <td>8000</td>\n      <td>2.176</td>\n    </tr>\n    <tr>\n      <th>...</th>\n      <td>...</td>\n      <td>...</td>\n      <td>...</td>\n      <td>...</td>\n      <td>...</td>\n    </tr>\n    <tr>\n      <th>1785</th>\n      <td>የ ትምህርት ደረጃቸው ንና የ አገልግሎት ሁኔታዎች ን ስን መረምር የሚደር...</td>\n      <td>tr_2365_tr24066</td>\n      <td>1</td>\n      <td>8000</td>\n      <td>19.968</td>\n    </tr>\n    <tr>\n      <th>555</th>\n      <td>ለ ምሳሌ ዲዮ ን ደብሊን ን ፓትሪክ ኩላይቨርት ን ን ሮናልድ ዴ ቦዬርን ...</td>\n      <td>tr_85_tr01085</td>\n      <td>1</td>\n      <td>8000</td>\n      <td>20.480</td>\n    </tr>\n    <tr>\n      <th>4255</th>\n      <td>ሁሴን አይዲድ እንደ ገለጹት ኢትዮጵያ ሁኔታዎች ከ ተመቻቹ ላት ሶማሊያ ን...</td>\n      <td>tr_16_tr01016</td>\n      <td>1</td>\n      <td>8000</td>\n      <td>20.736</td>\n    </tr>\n    <tr>\n      <th>4524</th>\n      <td>ባጭሩ ድርጅታችን እየ በ ከተ ስርአታችን ና አመራ ራችን ባህርይ ውን እየ...</td>\n      <td>tr_6163_tr62064</td>\n      <td>1</td>\n      <td>8000</td>\n      <td>22.528</td>\n    </tr>\n    <tr>\n      <th>3130</th>\n      <td>ማጋነን ባይሆን ብኝ ለ ፕሮፌሰሩ የተሰጠ ውን አክብሮት ሳስበው የ አሜሪካ...</td>\n      <td>tr_6166_tr62067</td>\n      <td>1</td>\n      <td>8000</td>\n      <td>22.912</td>\n    </tr>\n  </tbody>\n</table>\n<p>5000 rows × 5 columns</p>\n</div>"
     },
     "execution_count": 7,
     "metadata": {},
     "output_type": "execute_result"
    }
   ],
   "source": [
    "sorted_metadata = meta_data.sort_values(by=\"duration\")\n",
    "labels = sorted_metadata['label'].to_list()\n",
    "sorted_metadata"
   ],
   "metadata": {
    "collapsed": false,
    "pycharm": {
     "name": "#%%\n"
    }
   }
  },
  {
   "cell_type": "code",
   "execution_count": 8,
   "outputs": [],
   "source": [
    "audios = []\n",
    "for label in labels:\n",
    "    audios.append(audio_obj[label][0])\n",
    "\n",
    "translations = []\n",
    "for label in labels:\n",
    "    translations.append(translation_obj[label])"
   ],
   "metadata": {
    "collapsed": false,
    "pycharm": {
     "name": "#%%\n"
    }
   }
  },
  {
   "cell_type": "code",
   "execution_count": 9,
   "outputs": [],
   "source": [
    "def build_model(output_dim, custom_model, preprocess_model, mfcc=False, calc=None):\n",
    "\n",
    "    input_audios = Input(name='the_input', shape=(None,))\n",
    "    pre = preprocess_model(input_audios)\n",
    "    pre = tf.squeeze(pre, [3])\n",
    "\n",
    "    y_pred = custom_model(pre)\n",
    "    model = Model(inputs=input_audios, outputs=y_pred, name=\"model_builder\")\n",
    "    model.output_length = calc\n",
    "\n",
    "    return model"
   ],
   "metadata": {
    "collapsed": false,
    "pycharm": {
     "name": "#%%\n"
    }
   }
  },
  {
   "cell_type": "code",
   "execution_count": 10,
   "outputs": [],
   "source": [
    "def predict(model, audio, tokenizer, int_to_char, actual=None):\n",
    "\n",
    "    pred_audios = tf.convert_to_tensor([audio])\n",
    "\n",
    "    y_pred = model.predict(pred_audios)\n",
    "\n",
    "    input_shape = tf.keras.backend.shape(y_pred)\n",
    "    input_length = tf.ones(shape=input_shape[0]) * tf.keras.backend.cast(input_shape[1], 'float32')\n",
    "    prediction = tf.keras.backend.ctc_decode(y_pred, input_length, greedy=False)[0][0]\n",
    "\n",
    "    pred = K.eval(prediction).flatten().tolist()\n",
    "    pred = [i for i in pred if i != -1]\n",
    "\n",
    "    predicted_text = tokenizer.decode_text(pred, int_to_char)\n",
    "\n",
    "    error = None\n",
    "    if actual != None:\n",
    "        error = wer(actual, predicted_text)\n",
    "\n",
    "    return predicted_text, error"
   ],
   "metadata": {
    "collapsed": false,
    "pycharm": {
     "name": "#%%\n"
    }
   }
  },
  {
   "cell_type": "code",
   "execution_count": 11,
   "outputs": [
    {
     "name": "stdout",
     "output_type": "stream",
     "text": [
      "sample snt: እኔ ጥሩ ኢትዮጵያዊ ነኝ\n",
      "encoded snt: [13, 106, 1, 44, 52, 1, 35, 3, 38, 43, 6, 63, 1, 20, 99]\n",
      "decoed snt: እኔ ጥሩ ኢትዮጵያዊ ነኝ\n"
     ]
    }
   ],
   "source": [
    "tokenizer = Tokenizer(translations)\n",
    "int_to_char, char_to_int = tokenizer.build_dict()\n",
    "sample = translations[0]\n",
    "encoded = tokenizer.encode(sample, char_to_int)\n",
    "decoded = tokenizer.decode_text(encoded, int_to_char)\n",
    "\n",
    "print(f\"sample snt: {sample}\")\n",
    "print(f\"encoded snt: {encoded}\")\n",
    "print(f\"decoed snt: {decoded}\")"
   ],
   "metadata": {
    "collapsed": false,
    "pycharm": {
     "name": "#%%\n"
    }
   }
  },
  {
   "cell_type": "code",
   "execution_count": 24,
   "outputs": [],
   "source": [
    "helper.write_obj(\"../int_to_char.pkl\", int_to_char)\n",
    "helper.write_obj(\"../char_to_int.pkl\", char_to_int)"
   ],
   "metadata": {
    "collapsed": false,
    "pycharm": {
     "name": "#%%\n"
    }
   }
  },
  {
   "cell_type": "code",
   "execution_count": 12,
   "outputs": [],
   "source": [
    "sample_rate = 8000\n",
    "fft_size = 512\n",
    "frame_step = 256\n",
    "n_mels = 128\n",
    "batch_size = 100\n",
    "epochs = 20\n",
    "data_len = len(translations)\n",
    "output_dim = len(char_to_int) + 2"
   ],
   "metadata": {
    "collapsed": false,
    "pycharm": {
     "name": "#%%\n"
    }
   }
  },
  {
   "cell_type": "code",
   "execution_count": 13,
   "outputs": [
    {
     "name": "stderr",
     "output_type": "stream",
     "text": [
      "2022-06-08 23:14:00.415766: I tensorflow/core/platform/cpu_feature_guard.cc:151] This TensorFlow binary is optimized with oneAPI Deep Neural Network Library (oneDNN) to use the following CPU instructions in performance-critical operations:  AVX2 FMA\n",
      "To enable them in other operations, rebuild TensorFlow with the appropriate compiler flags.\n"
     ]
    },
    {
     "name": "stdout",
     "output_type": "stream",
     "text": [
      "Model: \"preprocessin_model\"\n",
      "_________________________________________________________________\n",
      " Layer (type)                Output Shape              Param #   \n",
      "=================================================================\n",
      " input (InputLayer)          [(None, None)]            0         \n",
      "                                                                 \n",
      " log_mel_spectrogram (LogMel  (None, None, 128, 1)     0         \n",
      " Spectrogram)                                                    \n",
      "                                                                 \n",
      " batch_normalization (BatchN  (None, None, 128, 1)     512       \n",
      " ormalization)                                                   \n",
      "                                                                 \n",
      "=================================================================\n",
      "Total params: 512\n",
      "Trainable params: 256\n",
      "Non-trainable params: 256\n",
      "_________________________________________________________________\n"
     ]
    }
   ],
   "source": [
    "dg = DataGenerator(translations, audios, batch_size, shuffle=True)\n",
    "preprocess_model = preprocessin_model(sample_rate, fft_size, frame_step, n_mels)\n",
    "preprocess_model.summary()"
   ],
   "metadata": {
    "collapsed": false,
    "pycharm": {
     "name": "#%%\n"
    }
   }
  },
  {
   "cell_type": "code",
   "execution_count": 14,
   "outputs": [
    {
     "name": "stdout",
     "output_type": "stream",
     "text": [
      "(1, 47104)\n"
     ]
    },
    {
     "data": {
      "text/plain": "(1, 183, 128, 1)"
     },
     "metadata": {},
     "output_type": "display_data"
    },
    {
     "name": "stdout",
     "output_type": "stream",
     "text": [
      "char_len 77\n"
     ]
    },
    {
     "data": {
      "text/plain": "<Figure size 1152x288 with 1 Axes>",
      "image/png": "[encoded data removed]"
     },
     "metadata": {},
     "output_type": "display_data"
    }
   ],
   "source": [
    "sample_audio = dg[0][0]['the_input'][0].numpy()\n",
    "sample_lbl = dg[0][0]['the_labels'][0].numpy()\n",
    "\n",
    "a = np.zeros((1, len(sample_audio)))\n",
    "a[0, ] = sample_audio\n",
    "print(a.shape)\n",
    "pred = preprocess_model.predict(a)\n",
    "fig, ax = plt.subplots(figsize=(16, 4))\n",
    "display(pred.shape)\n",
    "pred = pred[0, :, :, 0]\n",
    "librosa.display.specshow(pred.T, sr=8000, hop_length=128, cmap=\"jet\")\n",
    "print(\"char_len\", len(sample_lbl))"
   ],
   "metadata": {
    "collapsed": false,
    "pycharm": {
     "name": "#%%\n"
    }
   }
  },
  {
   "cell_type": "code",
   "execution_count": 15,
   "outputs": [
    {
     "name": "stdout",
     "output_type": "stream",
     "text": [
      "(1, 52224)\n"
     ]
    },
    {
     "data": {
      "text/plain": "(1, 203, 128, 1)"
     },
     "metadata": {},
     "output_type": "display_data"
    },
    {
     "name": "stdout",
     "output_type": "stream",
     "text": [
      "char_len 86\n"
     ]
    },
    {
     "data": {
      "text/plain": "<Figure size 1152x288 with 1 Axes>",
      "image/png": "[encoded data removed]"
     },
     "metadata": {},
     "output_type": "display_data"
    }
   ],
   "source": [
    "\n",
    "sample_audio = dg[49][0]['the_input'][-1].numpy()\n",
    "sample_lbl = dg[49][0]['the_labels'][-1].numpy()\n",
    "\n",
    "a = np.zeros((1, len(sample_audio)))\n",
    "a[0, ] = sample_audio\n",
    "print(a.shape)\n",
    "pred = preprocess_model.predict(a)\n",
    "fig, ax = plt.subplots(figsize=(16, 4))\n",
    "display(pred.shape)\n",
    "pred = pred[0, :, :, 0]\n",
    "librosa.display.specshow(pred.T, sr=8000, hop_length=128, cmap=\"jet\")\n",
    "print(\"char_len\", len(sample_lbl))"
   ],
   "metadata": {
    "collapsed": false,
    "pycharm": {
     "name": "#%%\n"
    }
   }
  },
  {
   "cell_type": "markdown",
   "source": [
    "## Simple RNN"
   ],
   "metadata": {
    "collapsed": false,
    "pycharm": {
     "name": "#%% md\n"
    }
   }
  },
  {
   "cell_type": "code",
   "execution_count": 16,
   "outputs": [
    {
     "name": "stdout",
     "output_type": "stream",
     "text": [
      "Model: \"simple_rnn_model\"\n",
      "_________________________________________________________________\n",
      " Layer (type)                Output Shape              Param #   \n",
      "=================================================================\n",
      " the_input (InputLayer)      [(None, None, 128)]       0         \n",
      "                                                                 \n",
      " rnn (GRU)                   (None, None, 224)         237888    \n",
      "                                                                 \n",
      " softmax (Activation)        (None, None, 224)         0         \n",
      "                                                                 \n",
      "=================================================================\n",
      "Total params: 237,888\n",
      "Trainable params: 237,888\n",
      "Non-trainable params: 0\n",
      "_________________________________________________________________\n"
     ]
    }
   ],
   "source": [
    "speech_simple_rnn = simple_rnn_model(n_mels, output_dim)\n",
    "speech_simple_rnn.summary()"
   ],
   "metadata": {
    "collapsed": false,
    "pycharm": {
     "name": "#%%\n"
    }
   }
  },
  {
   "cell_type": "code",
   "execution_count": 17,
   "outputs": [
    {
     "name": "stdout",
     "output_type": "stream",
     "text": [
      "Model: \"model_builder\"\n",
      "_________________________________________________________________\n",
      " Layer (type)                Output Shape              Param #   \n",
      "=================================================================\n",
      " the_input (InputLayer)      [(None, None)]            0         \n",
      "                                                                 \n",
      " preprocessin_model (Functio  (None, None, 128, 1)     512       \n",
      " nal)                                                            \n",
      "                                                                 \n",
      " tf.compat.v1.squeeze (TFOpL  (None, None, 128)        0         \n",
      " ambda)                                                          \n",
      "                                                                 \n",
      " simple_rnn_model (Functiona  (None, None, 224)        237888    \n",
      " l)                                                              \n",
      "                                                                 \n",
      "=================================================================\n",
      "Total params: 238,400\n",
      "Trainable params: 238,144\n",
      "Non-trainable params: 256\n",
      "_________________________________________________________________\n"
     ]
    }
   ],
   "source": [
    "simple_rnn_speech_model = build_model(output_dim, speech_simple_rnn, preprocess_model)\n",
    "simple_rnn_speech_model.summary()"
   ],
   "metadata": {
    "collapsed": false,
    "pycharm": {
     "name": "#%%\n"
    }
   }
  },
  {
   "cell_type": "markdown",
   "source": [
    "#### Train and Export Model"
   ],
   "metadata": {
    "collapsed": false,
    "pycharm": {
     "name": "#%% md\n"
    }
   }
  },
  {
   "cell_type": "code",
   "execution_count": 21,
   "outputs": [
    {
     "name": "stdout",
     "output_type": "stream",
     "text": [
      "Model: \"model\"\n",
      "__________________________________________________________________________________________________\n",
      " Layer (type)                   Output Shape         Param #     Connected to                     \n",
      "==================================================================================================\n",
      " the_input (InputLayer)         [(None, None)]       0           []                               \n",
      "                                                                                                  \n",
      " preprocessin_model (Functional  (None, None, 128, 1  512        ['the_input[0][0]']              \n",
      " )                              )                                                                 \n",
      "                                                                                                  \n",
      " tf.compat.v1.squeeze (TFOpLamb  (None, None, 128)   0           ['preprocessin_model[0][0]']     \n",
      " da)                                                                                              \n",
      "                                                                                                  \n",
      " input_length (InputLayer)      [(None, 1)]          0           []                               \n",
      "                                                                                                  \n",
      " simple_rnn_model (Functional)  (None, None, 224)    237888      ['tf.compat.v1.squeeze[0][0]']   \n",
      "                                                                                                  \n",
      " the_labels (InputLayer)        [(None, None)]       0           []                               \n",
      "                                                                                                  \n",
      " lambda (Lambda)                (None, 1)            0           ['input_length[0][0]']           \n",
      "                                                                                                  \n",
      " label_length (InputLayer)      [(None, 1)]          0           []                               \n",
      "                                                                                                  \n",
      " ctc (Lambda)                   (None, 1)            0           ['simple_rnn_model[0][0]',       \n",
      "                                                                  'the_labels[0][0]',             \n",
      "                                                                  'lambda[0][0]',                 \n",
      "                                                                  'label_length[0][0]']           \n",
      "                                                                                                  \n",
      "==================================================================================================\n",
      "Total params: 238,400\n",
      "Trainable params: 238,144\n",
      "Non-trainable params: 256\n",
      "__________________________________________________________________________________________________\n",
      "None\n",
      "Epoch 1/20\n",
      "50/50 [==============================] - 109s 2s/step - loss: 711.2739\n",
      "Epoch 2/20\n",
      "50/50 [==============================] - 161s 3s/step - loss: 662.5804\n",
      "Epoch 3/20\n",
      "50/50 [==============================] - 83s 2s/step - loss: 661.8004\n",
      "Epoch 4/20\n",
      "50/50 [==============================] - 92s 2s/step - loss: 661.4392\n",
      "Epoch 5/20\n",
      "50/50 [==============================] - 85s 2s/step - loss: 661.2336\n",
      "Epoch 6/20\n",
      "50/50 [==============================] - 67s 1s/step - loss: 661.0394\n",
      "Epoch 7/20\n",
      "50/50 [==============================] - 73s 1s/step - loss: 660.8337\n",
      "Epoch 8/20\n",
      "50/50 [==============================] - 77s 2s/step - loss: 660.6705\n",
      "Epoch 9/20\n",
      "50/50 [==============================] - 73s 1s/step - loss: 660.4574\n",
      "Epoch 10/20\n",
      "50/50 [==============================] - 464s 9s/step - loss: 660.1969\n",
      "Epoch 11/20\n",
      "50/50 [==============================] - 3238s 66s/step - loss: 659.8079\n",
      "Epoch 12/20\n",
      "50/50 [==============================] - 1285s 26s/step - loss: 659.6184\n",
      "Epoch 13/20\n",
      "50/50 [==============================] - 82s 2s/step - loss: 659.4730\n",
      "Epoch 14/20\n",
      "50/50 [==============================] - 75s 2s/step - loss: 659.2709\n",
      "Epoch 15/20\n",
      "50/50 [==============================] - 73s 1s/step - loss: 659.0983\n",
      "Epoch 16/20\n",
      "50/50 [==============================] - 72s 1s/step - loss: 658.9351\n",
      "Epoch 17/20\n",
      "50/50 [==============================] - 71s 1s/step - loss: 658.9119\n",
      "Epoch 18/20\n",
      "50/50 [==============================] - 71s 1s/step - loss: 658.7502\n",
      "Epoch 19/20\n",
      "50/50 [==============================] - 71s 1s/step - loss: 658.7366\n",
      "Epoch 20/20\n",
      "50/50 [==============================] - 70s 1s/step - loss: 658.6354\n"
     ]
    },
    {
     "data": {
      "text/plain": "<keras.engine.functional.Functional at 0x7fee7089a760>"
     },
     "execution_count": 21,
     "metadata": {},
     "output_type": "execute_result"
    }
   ],
   "source": [
    "train(simple_rnn_speech_model, dg, epochs=20, save_path=\"../models/simple_rnn_model.h5\",  batch_size=batch_size)"
   ],
   "metadata": {
    "collapsed": false,
    "pycharm": {
     "name": "#%%\n"
    }
   }
  },
  {
   "cell_type": "markdown",
   "source": [
    "#### Predicting Using Simple RNN"
   ],
   "metadata": {
    "collapsed": false,
    "pycharm": {
     "name": "#%% md\n"
    }
   }
  },
  {
   "cell_type": "code",
   "execution_count": 36,
   "outputs": [
    {
     "name": "stderr",
     "output_type": "stream",
     "text": [
      "2022-06-08 23:03:31.465966: W tensorflow/core/grappler/costs/op_level_cost_estimator.cc:689] Error in PredictCost() for the op: op: \"Softmax\" attr { key: \"T\" value { type: DT_FLOAT } } inputs { dtype: DT_FLOAT shape { unknown_rank: true } } device { type: \"CPU\" vendor: \"GenuineIntel\" model: \"110\" frequency: 2200 num_cores: 12 environment { key: \"cpu_instruction_set\" value: \"AVX SSE, SSE2, SSE3, SSSE3, SSE4.1, SSE4.2\" } environment { key: \"eigen\" value: \"3.4.90\" } l1_cache_size: 32768 l2_cache_size: 262144 l3_cache_size: 9437184 memory_size: 268435456 } outputs { dtype: DT_FLOAT shape { unknown_rank: true } }\n"
     ]
    },
    {
     "name": "stdout",
     "output_type": "stream",
     "text": [
      "actual በ ባህል በ ቋንቋ አንድ ናቸው\n",
      "predicted በትንትን ንያትንትንስንትንትንትንየንየትንትን\n",
      "WER:  1.0\n"
     ]
    }
   ],
   "source": [
    "simple_rnn_speech_model.load_weights(\"../models/simple_rnn_model.h5\")\n",
    "actual_translation = translations[10]\n",
    "sample_test_audio = audios[0]\n",
    "predicted, error = predict(simple_rnn_speech_model, sample_test_audio , tokenizer, int_to_char, actual=actual_translation)\n",
    "\n",
    "print(\"actual\", actual_translation)\n",
    "print(\"predicted\", predicted)\n",
    "print(\"WER: \", error)"
   ],
   "metadata": {
    "collapsed": false,
    "pycharm": {
     "name": "#%%\n"
    }
   }
  },
  {
   "cell_type": "markdown",
   "source": [
    "## CNN + Simple RNN"
   ],
   "metadata": {
    "collapsed": false,
    "pycharm": {
     "name": "#%% md\n"
    }
   }
  },
  {
   "cell_type": "code",
   "execution_count": 18,
   "outputs": [
    {
     "name": "stdout",
     "output_type": "stream",
     "text": [
      "Model: \"model\"\n",
      "_________________________________________________________________\n",
      " Layer (type)                Output Shape              Param #   \n",
      "=================================================================\n",
      " the_input (InputLayer)      [(None, None, 128)]       0         \n",
      "                                                                 \n",
      " conv1d (Conv1D)             (None, None, 250)         128250    \n",
      "                                                                 \n",
      " bn_conv_1d (BatchNormalizat  (None, None, 250)        1000      \n",
      " ion)                                                            \n",
      "                                                                 \n",
      " rnn (SimpleRNN)             (None, None, 400)         260400    \n",
      "                                                                 \n",
      " batch_normalization_1 (Batc  (None, None, 400)        1600      \n",
      " hNormalization)                                                 \n",
      "                                                                 \n",
      " time_distributed (TimeDistr  (None, None, 224)        89824     \n",
      " ibuted)                                                         \n",
      "                                                                 \n",
      " softmax (Activation)        (None, None, 224)         0         \n",
      "                                                                 \n",
      "=================================================================\n",
      "Total params: 481,074\n",
      "Trainable params: 479,774\n",
      "Non-trainable params: 1,300\n",
      "_________________________________________________________________\n"
     ]
    }
   ],
   "source": [
    "speech_cnn_rnn = cnn_rnn_model(n_mels, 250, 4, 1, 'same', 400, output_dim)\n",
    "speech_cnn_rnn.summary()"
   ],
   "metadata": {
    "collapsed": false,
    "pycharm": {
     "name": "#%%\n"
    }
   }
  },
  {
   "cell_type": "code",
   "execution_count": 19,
   "outputs": [
    {
     "name": "stdout",
     "output_type": "stream",
     "text": [
      "Model: \"model_builder\"\n",
      "_________________________________________________________________\n",
      " Layer (type)                Output Shape              Param #   \n",
      "=================================================================\n",
      " the_input (InputLayer)      [(None, None)]            0         \n",
      "                                                                 \n",
      " preprocessin_model (Functio  (None, None, 128, 1)     512       \n",
      " nal)                                                            \n",
      "                                                                 \n",
      " tf.compat.v1.squeeze_1 (TFO  (None, None, 128)        0         \n",
      " pLambda)                                                        \n",
      "                                                                 \n",
      " model (Functional)          (None, None, 224)         481074    \n",
      "                                                                 \n",
      "=================================================================\n",
      "Total params: 481,586\n",
      "Trainable params: 480,030\n",
      "Non-trainable params: 1,556\n",
      "_________________________________________________________________\n"
     ]
    }
   ],
   "source": [
    "speech_cnn_rnn_model = build_model(output_dim, speech_cnn_rnn, preprocess_model)\n",
    "speech_cnn_rnn_model.summary()"
   ],
   "metadata": {
    "collapsed": false,
    "pycharm": {
     "name": "#%%\n"
    }
   }
  },
  {
   "cell_type": "markdown",
   "source": [
    "#### Train and Export Model"
   ],
   "metadata": {
    "collapsed": false,
    "pycharm": {
     "name": "#%% md\n"
    }
   }
  },
  {
   "cell_type": "code",
   "execution_count": 32,
   "outputs": [
    {
     "name": "stdout",
     "output_type": "stream",
     "text": [
      "Model: \"model_1\"\n",
      "__________________________________________________________________________________________________\n",
      " Layer (type)                   Output Shape         Param #     Connected to                     \n",
      "==================================================================================================\n",
      " the_input (InputLayer)         [(None, None)]       0           []                               \n",
      "                                                                                                  \n",
      " preprocessin_model (Functional  (None, None, 128, 1  512        ['the_input[0][0]']              \n",
      " )                              )                                                                 \n",
      "                                                                                                  \n",
      " tf.compat.v1.squeeze_1 (TFOpLa  (None, None, 128)   0           ['preprocessin_model[1][0]']     \n",
      " mbda)                                                                                            \n",
      "                                                                                                  \n",
      " input_length (InputLayer)      [(None, 1)]          0           []                               \n",
      "                                                                                                  \n",
      " model (Functional)             (None, None, 224)    481074      ['tf.compat.v1.squeeze_1[0][0]'] \n",
      "                                                                                                  \n",
      " the_labels (InputLayer)        [(None, None)]       0           []                               \n",
      "                                                                                                  \n",
      " lambda (Lambda)                (None, 1)            0           ['input_length[0][0]']           \n",
      "                                                                                                  \n",
      " label_length (InputLayer)      [(None, 1)]          0           []                               \n",
      "                                                                                                  \n",
      " ctc (Lambda)                   (None, 1)            0           ['model[0][0]',                  \n",
      "                                                                  'the_labels[0][0]',             \n",
      "                                                                  'lambda[0][0]',                 \n",
      "                                                                  'label_length[0][0]']           \n",
      "                                                                                                  \n",
      "==================================================================================================\n",
      "Total params: 481,586\n",
      "Trainable params: 480,030\n",
      "Non-trainable params: 1,556\n",
      "__________________________________________________________________________________________________\n",
      "None\n",
      "Epoch 1/20\n",
      "50/50 [==============================] - 132s 3s/step - loss: 267.3906\n",
      "Epoch 2/20\n",
      "50/50 [==============================] - 135s 3s/step - loss: 203.9348\n",
      "Epoch 3/20\n",
      "50/50 [==============================] - 133s 3s/step - loss: 196.6732\n",
      "Epoch 4/20\n",
      "50/50 [==============================] - 115s 2s/step - loss: 185.4591\n",
      "Epoch 5/20\n",
      "50/50 [==============================] - 187s 4s/step - loss: 155.6554\n",
      "Epoch 6/20\n",
      "50/50 [==============================] - 365s 7s/step - loss: 130.8279\n",
      "Epoch 7/20\n",
      "50/50 [==============================] - 229s 5s/step - loss: 117.8466\n",
      "Epoch 8/20\n",
      "50/50 [==============================] - 140s 3s/step - loss: 108.6481\n",
      "Epoch 9/20\n",
      "50/50 [==============================] - 141s 3s/step - loss: 102.8810\n",
      "Epoch 10/20\n",
      "50/50 [==============================] - 119s 2s/step - loss: 97.7227\n",
      "Epoch 11/20\n",
      "50/50 [==============================] - 126s 2s/step - loss: 93.6779\n",
      "Epoch 12/20\n",
      "50/50 [==============================] - 131s 3s/step - loss: 89.7911\n",
      "Epoch 13/20\n",
      "50/50 [==============================] - 96s 2s/step - loss: 86.9336\n",
      "Epoch 14/20\n",
      "50/50 [==============================] - 165s 3s/step - loss: 84.3736\n",
      "Epoch 15/20\n",
      "50/50 [==============================] - 227s 5s/step - loss: 81.7144\n",
      "Epoch 16/20\n",
      "50/50 [==============================] - 138s 3s/step - loss: 80.1198\n",
      "Epoch 17/20\n",
      "50/50 [==============================] - 142s 3s/step - loss: 77.2760\n",
      "Epoch 18/20\n",
      "50/50 [==============================] - 149s 3s/step - loss: 75.3498\n",
      "Epoch 19/20\n",
      "50/50 [==============================] - 96s 2s/step - loss: 73.2891\n",
      "Epoch 20/20\n",
      "50/50 [==============================] - 107s 2s/step - loss: 71.5270\n"
     ]
    },
    {
     "data": {
      "text/plain": "<keras.engine.functional.Functional at 0x7f7d3f7bf2b0>"
     },
     "execution_count": 32,
     "metadata": {},
     "output_type": "execute_result"
    }
   ],
   "source": [
    "train(speech_cnn_rnn_model, dg, epochs=20, save_path=\"../models/cnn_rnn_model.h5\",  batch_size=batch_size)"
   ],
   "metadata": {
    "collapsed": false,
    "pycharm": {
     "name": "#%%\n"
    }
   }
  },
  {
   "cell_type": "markdown",
   "source": [
    "#### Predicting Using CNN + Simple RNN"
   ],
   "metadata": {
    "collapsed": false,
    "pycharm": {
     "name": "#%% md\n"
    }
   }
  },
  {
   "cell_type": "code",
   "execution_count": 33,
   "outputs": [
    {
     "name": "stdout",
     "output_type": "stream",
     "text": [
      "1/1 [==============================] - 1s 822ms/step\n",
      "actual የ ኤርትራውያን በ ቅርቡ በ ቡሬ በኩል መባረር የ ጄኔቫ ን ኮንቬንሽን የሚ ጥስ ነው አላልኩ ም\n",
      "predicted  ተረ ናን ደ ቀኖ ተንኮ ታር ን መንኮንሚ ንሽ ሚ ና ረር \n",
      "WER: 0.94\n",
      "\n",
      "WARNING:tensorflow:5 out of the last 5 calls to <function Model.make_predict_function.<locals>.predict_function at 0x7f7d40b6f940> triggered tf.function retracing. Tracing is expensive and the excessive number of tracings could be due to (1) creating @tf.function repeatedly in a loop, (2) passing tensors with different shapes, (3) passing Python objects instead of tensors. For (1), please define your @tf.function outside of the loop. For (2), @tf.function has reduce_retracing=True option that can avoid unnecessary retracing. For (3), please refer to https://www.tensorflow.org/guide/function#controlling_retracing and https://www.tensorflow.org/api_docs/python/tf/function for  more details.\n",
      "1/1 [==============================] - 1s 508ms/step\n",
      "actual ሳምንት በ ኦልድ ትራ ፎርድ ሊድስ ን አስተናግ ዶ ሶስት ለ ሁለት አሸን ፏል\n",
      "predicted ሳ ንት በል ትላፎርች ሌስ አስተቅድሶስት ለ ውለት ታሸንነ ፏል\n",
      "WER: 0.86\n",
      "\n",
      "1/1 [==============================] - 0s 42ms/step\n",
      "actual በ ቤተ ክህነት ሹም ሽር ተደረገ\n",
      "predicted በ ሜተ ክ ነዲ ሽን ሽር ተዳረየ ገ\n",
      "WER: 1.00\n",
      "\n",
      "1/1 [==============================] - 0s 34ms/step\n",
      "actual መንግስት የ ብሮድካስት ን አዋጅ ን ተግባራዊ እንዲያደርግ ተ ጠይቋል\n",
      "predicted መንግርስቴ የ ብ ደ ካርሰን አዋንል ተግባራዊ ን ጀያ ደት ትዳኢ ቋል\n",
      "WER: 1.00\n",
      "\n",
      "1/1 [==============================] - 0s 45ms/step\n",
      "actual ኦነግ ና ኦብነግ ቁርሾ ጀመሩ\n",
      "predicted ጻ አሆ የ ገ ን ሚማ ሁ ባና እንድ ደ ሽ ጃ ሚ ላር \n",
      "WER: 2.80\n",
      "\n",
      "1/1 [==============================] - 0s 32ms/step\n",
      "actual ኢትዮጵያ በ ዛላንበሳ የ በላይነት እ ያገኘች መምጣቷ ን ነጻ ምንጮች አ ረጋገጡ\n",
      "predicted ሊኢትዮጵያ በዛዋ በሰ የበ የነ ት ያ ገኛ መ ምዳቷን ነም ደች አረጋ ገት\n",
      "WER: 1.08\n",
      "\n",
      "1/1 [==============================] - 0s 48ms/step\n",
      "actual ክንፈ ን ያስ ገደሉት አንጃዎቹ ናቸው ብዬ እጠራ ጠራ ለሁ\n",
      "predicted ል ፋ ስ ከ ደ ቷን ጃዎች ናሽው በ የ ትራት ታራ ሁ\n",
      "WER: 1.30\n",
      "\n",
      "1/1 [==============================] - 0s 52ms/step\n",
      "actual አንቺ ልጅ ያ የ ሽውን ነገር ሁሉ ለ ማግኘት አት ጓጉ\n",
      "predicted ዛን ት ያ የ ሽ ነ ገር ሁለ የ ማገኘ የትተአር ኮጉ\n",
      "WER: 0.91\n",
      "\n",
      "1/1 [==============================] - 0s 32ms/step\n",
      "actual የ ፌዴሬሽኑ ፕሬዚዳንት ሚስተር ኢንጅ ል ማሪያ ቬላር እንኳ ን ሊ ያነሷቸው አል ፈለጉ ም\n",
      "predicted  ሸዴ ሽመትሬዝዳን ሽ ጀድ ንጀእማ ያን ዜየላል ሞ ማ ሊ ነስችው ል ልጉ\n",
      "WER: 0.93\n",
      "\n",
      "1/1 [==============================] - 0s 52ms/step\n",
      "actual አንዳንድ ጊዜ እንደ ጮሌ ስለሚያ ደርገኝ ስለሚ ሞክረ ኝ እጄ ን አልሰጠ ሁም\n",
      "predicted ሸአንዳ ንድ ይህዜ እንደ ጮሁ የ ለሚ ደርገኝ ኢስለሚባ ከሬን የን ጀንሸጣሁ \n",
      "WER: 1.00\n",
      "\n"
     ]
    }
   ],
   "source": [
    "speech_cnn_rnn_model.load_weights(\"../models/cnn_rnn_model.h5\")\n",
    "for k in range(10):\n",
    "    i = random.randint(0, 3000)\n",
    "    actual_translation = translations[i]\n",
    "    sample_test_audio = audios[i]\n",
    "    predicted, error = predict(speech_cnn_rnn_model, sample_test_audio,\n",
    "                               tokenizer, int_to_char, actual=actual_translation)\n",
    "\n",
    "    print(\"actual\", actual_translation)\n",
    "    print(\"predicted\", predicted)\n",
    "    print(f\"WER: {error:.2f}\")\n",
    "    print()"
   ],
   "metadata": {
    "collapsed": false,
    "pycharm": {
     "name": "#%%\n"
    }
   }
  },
  {
   "cell_type": "markdown",
   "source": [
    "## CNN and Bi-directional RNN"
   ],
   "metadata": {
    "collapsed": false,
    "pycharm": {
     "name": "#%% md\n"
    }
   }
  },
  {
   "cell_type": "code",
   "execution_count": 20,
   "outputs": [],
   "source": [
    "batch_size = 32\n",
    "dg = DataGenerator(translations, audios, batch_size, shuffle=True)"
   ],
   "metadata": {
    "collapsed": false,
    "pycharm": {
     "name": "#%%\n"
    }
   }
  },
  {
   "cell_type": "markdown",
   "source": [
    "#### Train and Export Model"
   ],
   "metadata": {
    "collapsed": false,
    "pycharm": {
     "name": "#%% md\n"
    }
   }
  },
  {
   "cell_type": "code",
   "execution_count": 21,
   "outputs": [
    {
     "name": "stdout",
     "output_type": "stream",
     "text": [
      "Model: \"cnn\"\n",
      "_________________________________________________________________\n",
      " Layer (type)                Output Shape              Param #   \n",
      "=================================================================\n",
      " the_input (InputLayer)      [(None, None, 128, 1)]    0         \n",
      "                                                                 \n",
      " conv2d (Conv2D)             (None, None, 128, 128)    6400      \n",
      "                                                                 \n",
      " activation (Activation)     (None, None, 128, 128)    0         \n",
      "                                                                 \n",
      " batch_normalization_2 (Batc  (None, None, 128, 128)   512       \n",
      " hNormalization)                                                 \n",
      "                                                                 \n",
      " max_pooling2d (MaxPooling2D  (None, None, 64, 128)    0         \n",
      " )                                                               \n",
      "                                                                 \n",
      " conv2d_1 (Conv2D)           (None, None, 64, 64)      204864    \n",
      "                                                                 \n",
      " activation_1 (Activation)   (None, None, 64, 64)      0         \n",
      "                                                                 \n",
      " batch_normalization_3 (Batc  (None, None, 64, 64)     256       \n",
      " hNormalization)                                                 \n",
      "                                                                 \n",
      " max_pooling2d_1 (MaxPooling  (None, None, 32, 64)     0         \n",
      " 2D)                                                             \n",
      "                                                                 \n",
      " conv2d_2 (Conv2D)           (None, None, 32, 64)      36928     \n",
      "                                                                 \n",
      " activation_2 (Activation)   (None, None, 32, 64)      0         \n",
      "                                                                 \n",
      " batch_normalization_4 (Batc  (None, None, 32, 64)     256       \n",
      " hNormalization)                                                 \n",
      "                                                                 \n",
      " max_pooling2d_2 (MaxPooling  (None, None, 16, 64)     0         \n",
      " 2D)                                                             \n",
      "                                                                 \n",
      " reshape (Reshape)           (None, None, 1024)        0         \n",
      "                                                                 \n",
      "=================================================================\n",
      "Total params: 249,216\n",
      "Trainable params: 248,704\n",
      "Non-trainable params: 512\n",
      "_________________________________________________________________\n"
     ]
    },
    {
     "data": {
      "text/plain": "(None, TensorShape([None, None, 1024]))"
     },
     "execution_count": 21,
     "metadata": {},
     "output_type": "execute_result"
    }
   ],
   "source": [
    "cnn_model, cnn_shape = CNN_net(n_mels)\n",
    "cnn_model.summary(), cnn_shape"
   ],
   "metadata": {
    "collapsed": false,
    "pycharm": {
     "name": "#%%\n"
    }
   }
  },
  {
   "cell_type": "code",
   "execution_count": 22,
   "outputs": [
    {
     "name": "stdout",
     "output_type": "stream",
     "text": [
      "Model: \"BidirectionalRNN\"\n",
      "_________________________________________________________________\n",
      " Layer (type)                Output Shape              Param #   \n",
      "=================================================================\n",
      " the_input (InputLayer)      [(None, None, 1024)]      0         \n",
      "                                                                 \n",
      " bidirectional (Bidirectiona  (None, None, 800)        4560000   \n",
      " l)                                                              \n",
      "                                                                 \n",
      " batch_normalization_5 (Batc  (None, None, 800)        3200      \n",
      " hNormalization)                                                 \n",
      "                                                                 \n",
      " dropout (Dropout)           (None, None, 800)         0         \n",
      "                                                                 \n",
      " bidirectional_1 (Bidirectio  (None, None, 800)        3843200   \n",
      " nal)                                                            \n",
      "                                                                 \n",
      " batch_normalization_6 (Batc  (None, None, 800)        3200      \n",
      " hNormalization)                                                 \n",
      "                                                                 \n",
      " dropout_1 (Dropout)         (None, None, 800)         0         \n",
      "                                                                 \n",
      " bidirectional_2 (Bidirectio  (None, None, 800)        3843200   \n",
      " nal)                                                            \n",
      "                                                                 \n",
      " batch_normalization_7 (Batc  (None, None, 800)        3200      \n",
      " hNormalization)                                                 \n",
      "                                                                 \n",
      " dropout_2 (Dropout)         (None, None, 800)         0         \n",
      "                                                                 \n",
      " bidirectional_3 (Bidirectio  (None, None, 800)        3843200   \n",
      " nal)                                                            \n",
      "                                                                 \n",
      " batch_normalization_8 (Batc  (None, None, 800)        3200      \n",
      " hNormalization)                                                 \n",
      "                                                                 \n",
      " dropout_3 (Dropout)         (None, None, 800)         0         \n",
      "                                                                 \n",
      " time_distributed_1 (TimeDis  (None, None, 224)        179424    \n",
      " tributed)                                                       \n",
      "                                                                 \n",
      " softmax (Activation)        (None, None, 224)         0         \n",
      "                                                                 \n",
      "=================================================================\n",
      "Total params: 16,281,824\n",
      "Trainable params: 16,275,424\n",
      "Non-trainable params: 6,400\n",
      "_________________________________________________________________\n"
     ]
    }
   ],
   "source": [
    "BI_RNN_2 = BidirectionalRNN2(1024, batch_size=batch_size, output_dim=output_dim)\n",
    "BI_RNN_2.summary()"
   ],
   "metadata": {
    "collapsed": false,
    "pycharm": {
     "name": "#%%\n"
    }
   }
  },
  {
   "cell_type": "code",
   "execution_count": 23,
   "outputs": [],
   "source": [
    "def build_model2(output_dim, cnn_model, custom_model, preprocess_model, mfcc=False, calc=None):\n",
    "\n",
    "    input_audios = Input(name='the_input', shape=(None,))\n",
    "    pre = preprocess_model(input_audios)\n",
    "    pre = tf.squeeze(pre, [3])\n",
    "\n",
    "    cnn_output = cnn_model(pre)\n",
    "\n",
    "    y_pred = custom_model(cnn_output)\n",
    "    model = Model(inputs=input_audios, outputs=y_pred, name=\"model_builder\")\n",
    "    model.output_length = calc\n",
    "\n",
    "    return model"
   ],
   "metadata": {
    "collapsed": false,
    "pycharm": {
     "name": "#%%\n"
    }
   }
  },
  {
   "cell_type": "code",
   "execution_count": 24,
   "outputs": [
    {
     "name": "stdout",
     "output_type": "stream",
     "text": [
      "Model: \"model_builder\"\n",
      "_________________________________________________________________\n",
      " Layer (type)                Output Shape              Param #   \n",
      "=================================================================\n",
      " the_input (InputLayer)      [(None, None)]            0         \n",
      "                                                                 \n",
      " preprocessin_model (Functio  (None, None, 128, 1)     512       \n",
      " nal)                                                            \n",
      "                                                                 \n",
      " tf.compat.v1.squeeze_2 (TFO  (None, None, 128)        0         \n",
      " pLambda)                                                        \n",
      "                                                                 \n",
      " cnn (Functional)            (None, None, 1024)        249216    \n",
      "                                                                 \n",
      " BidirectionalRNN (Functiona  (None, None, 224)        16281824  \n",
      " l)                                                              \n",
      "                                                                 \n",
      "=================================================================\n",
      "Total params: 16,531,552\n",
      "Trainable params: 16,524,384\n",
      "Non-trainable params: 7,168\n",
      "_________________________________________________________________\n"
     ]
    }
   ],
   "source": [
    "cnn_bi_rnn_model = build_model2(output_dim, cnn_model, BI_RNN_2, preprocess_model)\n",
    "cnn_bi_rnn_model.summary()"
   ],
   "metadata": {
    "collapsed": false,
    "pycharm": {
     "name": "#%%\n"
    }
   }
  },
  {
   "cell_type": "code",
   "execution_count": 40,
   "outputs": [
    {
     "name": "stdout",
     "output_type": "stream",
     "text": [
      "Model: \"model_2\"\n",
      "__________________________________________________________________________________________________\n",
      " Layer (type)                   Output Shape         Param #     Connected to                     \n",
      "==================================================================================================\n",
      " the_input (InputLayer)         [(None, None)]       0           []                               \n",
      "                                                                                                  \n",
      " preprocessin_model (Functional  (None, None, 128, 1  512        ['the_input[0][0]']              \n",
      " )                              )                                                                 \n",
      "                                                                                                  \n",
      " tf.compat.v1.squeeze_2 (TFOpLa  (None, None, 128)   0           ['preprocessin_model[2][0]']     \n",
      " mbda)                                                                                            \n",
      "                                                                                                  \n",
      " cnn (Functional)               (None, None, 1024)   249216      ['tf.compat.v1.squeeze_2[0][0]'] \n",
      "                                                                                                  \n",
      " input_length (InputLayer)      [(None, 1)]          0           []                               \n",
      "                                                                                                  \n",
      " BidirectionalRNN (Functional)  (None, None, 224)    16281824    ['cnn[0][0]']                    \n",
      "                                                                                                  \n",
      " the_labels (InputLayer)        [(None, None)]       0           []                               \n",
      "                                                                                                  \n",
      " lambda_1 (Lambda)              (None, 1)            0           ['input_length[0][0]']           \n",
      "                                                                                                  \n",
      " label_length (InputLayer)      [(None, 1)]          0           []                               \n",
      "                                                                                                  \n",
      " ctc (Lambda)                   (None, 1)            0           ['BidirectionalRNN[0][0]',       \n",
      "                                                                  'the_labels[0][0]',             \n",
      "                                                                  'lambda_1[0][0]',               \n",
      "                                                                  'label_length[0][0]']           \n",
      "                                                                                                  \n",
      "==================================================================================================\n",
      "Total params: 16,531,552\n",
      "Trainable params: 16,524,384\n",
      "Non-trainable params: 7,168\n",
      "__________________________________________________________________________________________________\n",
      "None\n",
      "Epoch 1/20\n",
      "156/156 [==============================] - 2956s 18s/step - loss: 236.5242\n",
      "Epoch 2/20\n",
      "156/156 [==============================] - 2581s 16s/step - loss: 187.6499\n",
      "Epoch 3/20\n",
      "156/156 [==============================] - 2552s 16s/step - loss: 142.0575\n",
      "Epoch 4/20\n",
      "156/156 [==============================] - 2656s 17s/step - loss: 106.5407\n",
      "Epoch 5/20\n",
      "156/156 [==============================] - 2690s 17s/step - loss: 87.4937\n",
      "Epoch 6/20\n",
      "156/156 [==============================] - 2675s 17s/step - loss: 75.6141\n",
      "Epoch 7/20\n",
      "156/156 [==============================] - 2680s 17s/step - loss: 67.0227\n",
      "Epoch 8/20\n",
      "156/156 [==============================] - 2641s 17s/step - loss: 60.4609\n",
      "Epoch 9/20\n",
      "156/156 [==============================] - 2618s 17s/step - loss: 55.0529\n",
      "Epoch 10/20\n",
      "156/156 [==============================] - 2573s 17s/step - loss: 50.2233\n",
      "Epoch 11/20\n",
      "156/156 [==============================] - 2513s 16s/step - loss: 46.1700\n",
      "Epoch 12/20\n",
      "156/156 [==============================] - 3590s 23s/step - loss: 42.3981\n",
      "Epoch 13/20\n",
      "156/156 [==============================] - 4058s 26s/step - loss: 39.2210\n",
      "Epoch 14/20\n",
      "156/156 [==============================] - 3443s 22s/step - loss: 36.6097\n",
      "Epoch 15/20\n",
      "156/156 [==============================] - 3113s 20s/step - loss: 33.8481\n",
      "Epoch 16/20\n",
      "156/156 [==============================] - 5362s 34s/step - loss: 31.6660\n",
      "Epoch 17/20\n",
      "156/156 [==============================] - 4114s 26s/step - loss: 29.2911\n",
      "Epoch 18/20\n",
      "156/156 [==============================] - 3459s 22s/step - loss: 27.6813\n",
      "Epoch 19/20\n",
      "156/156 [==============================] - 3121s 20s/step - loss: 25.8610\n",
      "Epoch 20/20\n",
      "156/156 [==============================] - 3091s 20s/step - loss: 24.1552\n"
     ]
    },
    {
     "data": {
      "text/plain": "<keras.engine.functional.Functional at 0x7f7cda8c08e0>"
     },
     "execution_count": 40,
     "metadata": {},
     "output_type": "execute_result"
    }
   ],
   "source": [
    "train(cnn_bi_rnn_model, dg, epochs=20, save_path=\"../models/cnn_bi_rnn_model.h5\",  batch_size=batch_size)"
   ],
   "metadata": {
    "collapsed": false,
    "pycharm": {
     "name": "#%%\n"
    }
   }
  },
  {
   "cell_type": "markdown",
   "source": [
    "#### Predicting Using CNN and Bi-directional RNN"
   ],
   "metadata": {
    "collapsed": false,
    "pycharm": {
     "name": "#%% md\n"
    }
   }
  },
  {
   "cell_type": "code",
   "execution_count": 26,
   "outputs": [
    {
     "name": "stdout",
     "output_type": "stream",
     "text": [
      "actual የ ባህሬን መንግስት አስራ ሁለት ኢትዮጵያ ን ን አባረረ\n",
      "predicted የ ባህሬ ም መንግስት አስራ ሁለት ኢትዮፕያ ን ን አታረር\n",
      "WER: 0.44\n",
      "\n",
      "actual የ ኢትዮጵያ ና የኤርትራ ባለስልጣናት ዘ ሄግ ላይ ተገናኙ\n",
      "predicted የ ኢትዮጵያ ና የኤርትራ ባለስልጣናት ዘ ሄ ግዳይ ተገና\n",
      "WER: 0.33\n",
      "\n",
      "WARNING:tensorflow:5 out of the last 5 calls to <function Model.make_predict_function.<locals>.predict_function at 0x7fc13796d280> triggered tf.function retracing. Tracing is expensive and the excessive number of tracings could be due to (1) creating @tf.function repeatedly in a loop, (2) passing tensors with different shapes, (3) passing Python objects instead of tensors. For (1), please define your @tf.function outside of the loop. For (2), @tf.function has experimental_relax_shapes=True option that relaxes argument shapes that can avoid unnecessary retracing. For (3), please refer to https://www.tensorflow.org/guide/function#controlling_retracing and https://www.tensorflow.org/api_docs/python/tf/function for  more details.\n",
      "actual ትግሉ ንም እጅግ አስቸጋሪ አደረገ ው\n",
      "predicted ሽግሉ ንም ልጅጋሽስ ቸጋሪ አደረገ\n",
      "WER: 0.67\n",
      "\n",
      "actual የ ክሊንተን የ ኢትዮጵያ ጉብኝት ተሰረዘ\n",
      "predicted የ ክሊንተን የ ኢትዮጵያ ኮኙት ተሰረሰ\n",
      "WER: 0.33\n",
      "\n",
      "actual ጦርነት ማለት መሞት ማለት ነው\n",
      "predicted ጦርነት ማለት መሞት ማለት ነው\n",
      "WER: 0.00\n",
      "\n",
      "actual የ ኦሮቶዶክስ ና ካ ቶ ሊ ኩ ሱባኤ ተቃውሞ አረፈ በት\n",
      "predicted የ ሶዶክስ ና ካቶ ሊኩ ሱባኤ ተቃውዋ አነሰበት\n",
      "WER: 0.73\n",
      "\n",
      "actual ሂዲንክ ብዙ ነበር የ ተናገሩት\n",
      "predicted ሼዴንክ ልዥ ናበር የተናገረት\n",
      "WER: 1.00\n",
      "\n",
      "actual ኤርትራ የውጭ ጉዳይ ሚኒስ ተሯ ን እንደ ገና እያዋ ቀረች ነው\n",
      "predicted ኤርትራ የውጭ ጉዳይ ሚኒስ ተሯ ን እንደ ገና እያዋቀረች ነው\n",
      "WER: 0.18\n",
      "\n",
      "actual ኮሚሽኑ ፈቃደኛ ከሆነ ቦርዱ ወዲያ ው እንደሚ ወስን ተ ሰምቷል\n",
      "predicted ኮሚሽኑ ፈቃደኛ ከኮሆነ ቦርድ ወዲያው እንደሚ ወስን ተልሰም ቷል\n",
      "WER: 0.60\n",
      "\n",
      "actual ዛሬ ትላንት ከ ጀርባዬ ሆነ\n",
      "predicted አሬ ትላናንት ከ ጀርባዬ ሆነ\n",
      "WER: 0.40\n",
      "\n"
     ]
    }
   ],
   "source": [
    "cnn_bi_rnn_model.load_weights(\"../models/cnn-bi-rnn.h5\")\n",
    "for k in range(10):\n",
    "    i = random.randint(0, 1000)\n",
    "    actual_translation = translations[i]\n",
    "    sample_test_audio = audios[i]\n",
    "    predicted, error = predict(cnn_bi_rnn_model, sample_test_audio,\n",
    "                               tokenizer, int_to_char, actual=actual_translation)\n",
    "\n",
    "    print(\"actual\", actual_translation)\n",
    "    print(\"predicted\", predicted)\n",
    "    print(f\"WER: {error:.2f}\")\n",
    "    print()"
   ],
   "metadata": {
    "collapsed": false,
    "pycharm": {
     "name": "#%%\n"
    }
   }
  }
 ],
 "metadata": {
  "kernelspec": {
   "display_name": "Python 3",
   "language": "python",
   "name": "python3"
  },
  "language_info": {
   "codemirror_mode": {
    "name": "ipython",
    "version": 2
   },
   "file_extension": ".py",
   "mimetype": "text/x-python",
   "name": "python",
   "nbconvert_exporter": "python",
   "pygments_lexer": "ipython2",
   "version": "2.7.6"
  }
 },
 "nbformat": 4,
 "nbformat_minor": 0
}